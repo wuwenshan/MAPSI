{
 "cells": [
  {
   "cell_type": "code",
   "execution_count": 436,
   "metadata": {},
   "outputs": [],
   "source": [
    "import numpy as np\n",
    "import pickle as pkl\n",
    "import matplotlib.pyplot as plt\n",
    "\n",
    "# truc pour un affichage plus convivial des matrices numpy\n",
    "np.set_printoptions(precision=2, linewidth=320)\n",
    "plt.close('all')\n",
    "\n",
    "with open('TME6_lettres.pkl', 'rb') as f:\n",
    "    data = pkl.load(f, encoding='latin1')\n",
    "X = np.array(data.get('letters')) # récupération des données sur les lettres\n",
    "Y = np.array(data.get('labels')) # récupération des étiquettes associées "
   ]
  },
  {
   "cell_type": "code",
   "execution_count": 437,
   "metadata": {},
   "outputs": [],
   "source": [
    "# affichage d'une lettre (= vérification bon chargement)\n",
    "def tracerLettre(let):\n",
    "    a = -let*np.pi/180;\n",
    "    coord = np.array([[0, 0]]);\n",
    "    for i in range(len(a)):\n",
    "        x = np.array([[1, 0]]);\n",
    "        rot = np.array([[np.cos(a[i]), -np.sin(a[i])],[ np.sin(a[i]),np.cos(a[i])]])\n",
    "        xr = x.dot(rot) # application de la rotation\n",
    "        coord = np.vstack((coord,xr+coord[-1,:]))\n",
    "    plt.plot(coord[:,0],coord[:,1])\n",
    "    return\n",
    "\n",
    "def groupByLabel(y):\n",
    "    index = []\n",
    "    for i in np.unique(y): # pour toutes les classes\n",
    "        ind, = np.where(y == i)\n",
    "        index.append(ind)\n",
    "    return index\n",
    "\n",
    "def discretise(x, d):\n",
    "    intervalle = 360 / d\n",
    "    xd = x.copy()\n",
    "    for i in range(len(x)):\n",
    "        xd[i] = np.floor(x[i] / intervalle)\n",
    "    return xd\n",
    "\n",
    "# separation app/test, pc=ratio de points en apprentissage\n",
    "def separeTrainTest(y, pc):\n",
    "    indTrain = []\n",
    "    indTest = []\n",
    "    for i in np.unique(y): # pour toutes les classes\n",
    "        ind, = np.where(y == i)\n",
    "        n = len(ind)\n",
    "        indTrain.append(ind[np.random.permutation(n)][:int(np.floor(pc * n))])\n",
    "        indTest.append(np.setdiff1d(ind, indTrain[-1]))\n",
    "    return indTrain, indTest"
   ]
  },
  {
   "cell_type": "code",
   "execution_count": 438,
   "metadata": {},
   "outputs": [],
   "source": [
    "def initGD(X, N):\n",
    "    etats = []\n",
    "    for i in range(len(X)):\n",
    "        etats.append(np.floor(np.linspace(0,N-.00000001,len(X[i]))))\n",
    "    return np.array(etats)"
   ]
  },
  {
   "cell_type": "code",
   "execution_count": 439,
   "metadata": {},
   "outputs": [],
   "source": [
    "def learnHMM(allx, allq, N, K, initTo0=False):\n",
    "    if initTo0:\n",
    "        A = np.zeros((N,N))\n",
    "        B = np.zeros((N,K))\n",
    "        Pi = np.zeros(N)\n",
    "    else:\n",
    "        eps = 1e-8\n",
    "        A = np.ones((N,N))*eps\n",
    "        B = np.ones((N,K))*eps\n",
    "        Pi = np.ones(N)\n",
    "    \n",
    "    # Parcours de tous les signaux et incréments de A et Pi\n",
    "    for i in range(len(allq)):\n",
    "        Pi[ int( allq[i][0] ) ] += 1 # incréments du premier état\n",
    "        for j in range(len(allq[i]) - 1):\n",
    "            A[ int( allq[i][j] ) ][ int( allq[i][j+1] ) ] += 1 # incrément du passage d'un état à un autre\n",
    "            B[ int( allq[i][j] ) ][ int( allx[i][j] ) ] += 1 # incrément du passage d'un état vers une obs\n",
    "        B[ int( allq[i][len(allq[i])-1] ) ][ int( allx[i][len(allq[i])-1] ) ] += 1\n",
    "            \n",
    "    \n",
    "    # Normalisation\n",
    "    A = A / np.maximum(A.sum(1).reshape(N, 1), 1) # normalisation\n",
    "    B = B / np.maximum(B.sum(1).reshape(N, 1), 1) # normalisation\n",
    "    Pi = Pi / Pi.sum()\n",
    "    \n",
    "    return Pi, A, B"
   ]
  },
  {
   "cell_type": "code",
   "execution_count": 389,
   "metadata": {},
   "outputs": [
    {
     "name": "stdout",
     "output_type": "stream",
     "text": [
      "[1. 0. 0. 0. 0.]\n",
      "------------\n",
      "[[0.79 0.21 0.   0.   0.  ]\n",
      " [0.   0.76 0.24 0.   0.  ]\n",
      " [0.   0.   0.77 0.23 0.  ]\n",
      " [0.   0.   0.   0.76 0.24]\n",
      " [0.   0.   0.   0.   1.  ]]\n",
      "------------\n",
      "[[0.06 0.02 0.   0.   0.   0.   0.   0.04 0.49 0.4 ]\n",
      " [0.   0.04 0.   0.13 0.09 0.13 0.02 0.09 0.41 0.09]\n",
      " [0.   0.   0.   0.02 0.12 0.5  0.31 0.04 0.   0.  ]\n",
      " [0.07 0.   0.   0.   0.   0.   0.26 0.33 0.2  0.15]\n",
      " [0.73 0.12 0.   0.   0.   0.   0.   0.02 0.02 0.12]]\n"
     ]
    }
   ],
   "source": [
    "K = 10 # discrétisation (=10 observations possibles)\n",
    "N = 5  # 5 états possibles (de 0 à 4 en python) \n",
    "Xd = discretise(X,K) # ens de seq d'obs\n",
    "q = initGD(Xd, N) # ens de seq d'etats  \n",
    "\n",
    "\n",
    "Pi, A, B = learnHMM(Xd[Y=='a'],q[Y=='a'],N,K,True)\n",
    "\n",
    "print(Pi)\n",
    "print(\"------------\")\n",
    "print(A)\n",
    "print(\"------------\")\n",
    "print(B)"
   ]
  },
  {
   "cell_type": "code",
   "execution_count": 440,
   "metadata": {},
   "outputs": [],
   "source": [
    "def viterbi(x,Pi,A,B):\n",
    "    delta = np.zeros((B.shape[0],len(x)))\n",
    "    psy = np.zeros((B.shape[0],len(x)))\n",
    "    \n",
    "    # init\n",
    "    delta[:,0] = np.log(Pi) + np.log(B[:,int(x[0])])\n",
    "    psy[:,0] = -1\n",
    "   \n",
    "    # récursion\n",
    "    for t in range(1,len(x)):\n",
    "        for j in range(B.shape[0]):\n",
    "            delta[j,t] = np.max(delta[:,t-1] + np.log(A[:,j])) + np.log(B[j,int(x[t])])\n",
    "            psy[j,t] = np.argmax(delta[:,t-1] + np.log(A[:,j]))\n",
    "            \n",
    "    # Terminaison\n",
    "    S = np.max(delta[:,-1])\n",
    "    \n",
    "    # Chemin\n",
    "    s = np.zeros(len(x))\n",
    "    s[len(x)-1] = np.argmax(delta[:,-1])\n",
    "    for i in range(1,len(x)):\n",
    "        s[len(x)-i-1] = psy[int(s[len(x)-i]),len(x)-i]\n",
    "        \n",
    "    return s, S\n"
   ]
  },
  {
   "cell_type": "code",
   "execution_count": 391,
   "metadata": {},
   "outputs": [
    {
     "name": "stderr",
     "output_type": "stream",
     "text": [
      "C:\\Users\\wuwen\\Anaconda3\\lib\\site-packages\\ipykernel_launcher.py:6: RuntimeWarning: divide by zero encountered in log\n",
      "  \n",
      "C:\\Users\\wuwen\\Anaconda3\\lib\\site-packages\\ipykernel_launcher.py:12: RuntimeWarning: divide by zero encountered in log\n",
      "  if sys.path[0] == '':\n",
      "C:\\Users\\wuwen\\Anaconda3\\lib\\site-packages\\ipykernel_launcher.py:13: RuntimeWarning: divide by zero encountered in log\n",
      "  del sys.path[0]\n"
     ]
    }
   ],
   "source": [
    "s_est, p_est = viterbi(Xd[0], Pi, A, B)\n",
    "\n",
    "# s_est = [ 0.  0.  0.  0.  0.  0.  0.  0.  1.  2.  2.  2.  2.  2.  3.  3.  3.  3.  4.  4.  4.  4.  4.]\n",
    "# p_est = -38.0935655456"
   ]
  },
  {
   "cell_type": "code",
   "execution_count": 441,
   "metadata": {},
   "outputs": [],
   "source": [
    "def baumwelch(Xd, itrain, itest, N, K):\n",
    "    nCl = 26\n",
    "    \n",
    "    # init\n",
    "    Pi = np.zeros((nCl, N))\n",
    "    A = np.zeros((nCl, N, N))\n",
    "    B = np.zeros((nCl, N, K))\n",
    "    q = initGD(Xd, N)\n",
    "    probaCl = np.zeros(nCl)\n",
    "    nbIt = 2\n",
    "    est = []\n",
    "    \n",
    "    # Apprentissage pour chaque modèle de lettre\n",
    "    for i in range(nCl):\n",
    "        Pi[i], A[i], B[i] = learnHMM(Xd[itrain[i]], q[itrain[i]], N, K)\n",
    "    \n",
    "    # Evaluation viterbi pour toutes les lettres de toutes les classes (part 1)\n",
    "    for cl in range(nCl): # pour toutes les lettres\n",
    "        proba = 0\n",
    "        for i in itest[cl]: # pour toutes les obs d'une lettre\n",
    "            s_est, p_est = viterbi(Xd[i], Pi[cl], A[cl], B[cl])\n",
    "            q[i] = s_est # estimation état caché par viterbi\n",
    "            proba += p_est\n",
    "        Pi[cl], A[cl], B[cl] = learnHMM(Xd[itest[cl]], q[itest[cl]], N, K) # Réestimation du hmm\n",
    "        probaCl[cl] = proba\n",
    "            \n",
    "    logL = np.sum(probaCl)\n",
    "    est.append(logL)\n",
    "    \n",
    "    # Evaluation viterbi pour toutes les lettres de toutes les classes (part 2)\n",
    "    for cl in range(nCl): # pour toutes les lettres\n",
    "        proba = 0\n",
    "        for i in itest[cl]: # pour toutes les obs d'une lettre\n",
    "            s_est, p_est = viterbi(Xd[i], Pi[cl], A[cl], B[cl])\n",
    "            q[i] = s_est # estimation état caché par viterbi\n",
    "            proba += p_est\n",
    "        Pi[cl], A[cl], B[cl] = learnHMM(Xd[itest[cl]], q[itest[cl]], N, K) # Réestimation du hmm\n",
    "        probaCl[cl] = proba\n",
    "            \n",
    "    logLplus1 = np.sum(probaCl)\n",
    "    est.append(logLplus1)\n",
    "    \n",
    "    while ((logL - logLplus1) / logL) >= 1e-4:\n",
    "        \n",
    "        nbIt += 1\n",
    "        \n",
    "        # Evaluation viterbi pour toutes les lettres de toutes les classes (part 3)\n",
    "        for cl in range(nCl): # pour toutes les lettres\n",
    "            proba = 0\n",
    "            for i in itest[cl]: # pour toutes les obs d'une lettre\n",
    "                s_est, p_est = viterbi(Xd[i], Pi[cl], A[cl], B[cl])\n",
    "                q[i] = s_est # estimation état caché par viterbi\n",
    "                proba += p_est\n",
    "            Pi[cl], A[cl], B[cl] = learnHMM(Xd[itest[cl]], q[itest[cl]], N, K) # Réestimation du hmm\n",
    "            probaCl[cl] = proba\n",
    "            \n",
    "        logL = logLplus1\n",
    "        logLplus1 = np.sum(probaCl)\n",
    "        est.append(logLplus1)\n",
    "        \n",
    "    print(\"est : \",est)\n",
    "        \n",
    "    plt.plot(est)\n",
    "    plt.xlabel(\"Nombre d'itérations\")\n",
    "    plt.ylabel(\"Somme des probas estimées\")\n",
    "        \n",
    "    print(\"Nombre it : \",nbIt)\n",
    "    \n",
    "    return Pi, A, B"
   ]
  },
  {
   "cell_type": "code",
   "execution_count": 442,
   "metadata": {},
   "outputs": [
    {
     "name": "stdout",
     "output_type": "stream",
     "text": [
      "est :  [-1453.2628323833399, -1021.8160689689722, -1017.4956753694684, -1017.4956753694684]\n",
      "Nombre it :  4\n",
      "0.9333333333333333\n"
     ]
    },
    {
     "data": {
      "image/png": "[encoded data removed]",
      "text/plain": [
       "<Figure size 432x288 with 1 Axes>"
      ]
     },
     "metadata": {},
     "output_type": "display_data"
    },
    {
     "data": {
      "image/png": "[encoded data removed]",
      "text/plain": [
       "<Figure size 432x288 with 2 Axes>"
      ]
     },
     "metadata": {},
     "output_type": "display_data"
    }
   ],
   "source": [
    "itrain, itest = separeTrainTest(Y, 0.8)\n",
    "\n",
    "ia = []\n",
    "for i in itrain:\n",
    "    ia += i.tolist()    \n",
    "it = []\n",
    "for i in itest:\n",
    "    it += i.tolist()\n",
    "    \n",
    "K = 10 # discrétisation (=10 observations possibles)\n",
    "N = 5  # 5 états possibles (de 0 à 4 en python) \n",
    "Xd = discretise(X,K) # ens de seq d'obs\n",
    "    \n",
    "Pi,A,B = baumwelch(Xd, itrain,itest, N, K)  \n",
    "\n",
    "\n",
    "models = [] \n",
    "for cl in range(len(np.unique(Y))): # parcours de toutes les classes et optimisation des modèles\n",
    "    models.append((Pi[cl], A[cl], B[cl]))\n",
    "proba = np.array([[viterbi(Xd[i], Pi[cl], A[cl], B[cl])[1] for i in it]for cl in range(26)])\n",
    "Ynum = np.zeros(Y.shape)\n",
    "for num,char in enumerate(np.unique(Y)):\n",
    "    Ynum[Y==char] = num\n",
    "pred = proba.argmax(0) # max colonne par colonne\n",
    "print(np.where(pred != Ynum[it], 0.,1.).mean())\n",
    "conf = np.zeros((26,26))\n",
    "for k in range(len(it)):\n",
    "    conf[int(pred[k])][int(Ynum[it[k]])] += 1\n",
    "plt.figure()\n",
    "plt.imshow(conf, interpolation='nearest')\n",
    "plt.colorbar()\n",
    "plt.xticks(np.arange(26),np.unique(Y))\n",
    "plt.yticks(np.arange(26),np.unique(Y))\n",
    "plt.xlabel(u'Vérité terrain')\n",
    "plt.ylabel(u'Prédiction')\n",
    "plt.savefig(\"mat_conf_lettres_30obs_5states.png\")\n",
    "\n",
    "\n",
    "\n"
   ]
  },
  {
   "cell_type": "code",
   "execution_count": 443,
   "metadata": {},
   "outputs": [
    {
     "name": "stdout",
     "output_type": "stream",
     "text": [
      "est :  [-4556.936413777712, -3792.807634905325, -3765.7687097343432, -3762.8022227835763, -3762.8022227835763]\n",
      "Nombre it :  5\n",
      "Pour 5 états et 10 obervations en test :  0.75\n",
      "Pour 5 états et 10 obervations en apprentissage :  0.8413461538461539\n",
      "est :  [-4659.327779627817, -3863.2041156867713, -3852.3969798784765, -3852.3969798784765]\n",
      "Nombre it :  4\n"
     ]
    },
    {
     "ename": "KeyboardInterrupt",
     "evalue": "",
     "output_type": "error",
     "traceback": [
      "\u001b[1;31m---------------------------------------------------------------------------\u001b[0m",
      "\u001b[1;31mKeyboardInterrupt\u001b[0m                         Traceback (most recent call last)",
      "\u001b[1;32m<ipython-input-443-30ab1096d827>\u001b[0m in \u001b[0;36m<module>\u001b[1;34m()\u001b[0m\n\u001b[0;32m     17\u001b[0m         \u001b[1;32mfor\u001b[0m \u001b[0mcl\u001b[0m \u001b[1;32min\u001b[0m \u001b[0mrange\u001b[0m\u001b[1;33m(\u001b[0m\u001b[0mlen\u001b[0m\u001b[1;33m(\u001b[0m\u001b[0mnp\u001b[0m\u001b[1;33m.\u001b[0m\u001b[0munique\u001b[0m\u001b[1;33m(\u001b[0m\u001b[0mY\u001b[0m\u001b[1;33m)\u001b[0m\u001b[1;33m)\u001b[0m\u001b[1;33m)\u001b[0m\u001b[1;33m:\u001b[0m \u001b[1;31m# parcours de toutes les classes et optimisation des modèles\u001b[0m\u001b[1;33m\u001b[0m\u001b[0m\n\u001b[0;32m     18\u001b[0m             \u001b[0mmodels\u001b[0m\u001b[1;33m.\u001b[0m\u001b[0mappend\u001b[0m\u001b[1;33m(\u001b[0m\u001b[1;33m(\u001b[0m\u001b[0mPi\u001b[0m\u001b[1;33m[\u001b[0m\u001b[0mcl\u001b[0m\u001b[1;33m]\u001b[0m\u001b[1;33m,\u001b[0m \u001b[0mA\u001b[0m\u001b[1;33m[\u001b[0m\u001b[0mcl\u001b[0m\u001b[1;33m]\u001b[0m\u001b[1;33m,\u001b[0m \u001b[0mB\u001b[0m\u001b[1;33m[\u001b[0m\u001b[0mcl\u001b[0m\u001b[1;33m]\u001b[0m\u001b[1;33m)\u001b[0m\u001b[1;33m)\u001b[0m\u001b[1;33m\u001b[0m\u001b[0m\n\u001b[1;32m---> 19\u001b[1;33m         \u001b[0mproba\u001b[0m \u001b[1;33m=\u001b[0m \u001b[0mnp\u001b[0m\u001b[1;33m.\u001b[0m\u001b[0marray\u001b[0m\u001b[1;33m(\u001b[0m\u001b[1;33m[\u001b[0m\u001b[1;33m[\u001b[0m\u001b[0mviterbi\u001b[0m\u001b[1;33m(\u001b[0m\u001b[0mXd\u001b[0m\u001b[1;33m[\u001b[0m\u001b[0mi\u001b[0m\u001b[1;33m]\u001b[0m\u001b[1;33m,\u001b[0m \u001b[0mPi\u001b[0m\u001b[1;33m[\u001b[0m\u001b[0mcl\u001b[0m\u001b[1;33m]\u001b[0m\u001b[1;33m,\u001b[0m \u001b[0mA\u001b[0m\u001b[1;33m[\u001b[0m\u001b[0mcl\u001b[0m\u001b[1;33m]\u001b[0m\u001b[1;33m,\u001b[0m \u001b[0mB\u001b[0m\u001b[1;33m[\u001b[0m\u001b[0mcl\u001b[0m\u001b[1;33m]\u001b[0m\u001b[1;33m)\u001b[0m\u001b[1;33m[\u001b[0m\u001b[1;36m1\u001b[0m\u001b[1;33m]\u001b[0m \u001b[1;32mfor\u001b[0m \u001b[0mi\u001b[0m \u001b[1;32min\u001b[0m \u001b[0mrange\u001b[0m\u001b[1;33m(\u001b[0m\u001b[0mlen\u001b[0m\u001b[1;33m(\u001b[0m\u001b[0mXd\u001b[0m\u001b[1;33m)\u001b[0m\u001b[1;33m)\u001b[0m\u001b[1;33m]\u001b[0m\u001b[1;32mfor\u001b[0m \u001b[0mcl\u001b[0m \u001b[1;32min\u001b[0m \u001b[0mrange\u001b[0m\u001b[1;33m(\u001b[0m\u001b[1;36m26\u001b[0m\u001b[1;33m)\u001b[0m\u001b[1;33m]\u001b[0m\u001b[1;33m)\u001b[0m\u001b[1;33m\u001b[0m\u001b[0m\n\u001b[0m\u001b[0;32m     20\u001b[0m         \u001b[0mpred\u001b[0m \u001b[1;33m=\u001b[0m \u001b[0mproba\u001b[0m\u001b[1;33m.\u001b[0m\u001b[0margmax\u001b[0m\u001b[1;33m(\u001b[0m\u001b[1;36m0\u001b[0m\u001b[1;33m)\u001b[0m \u001b[1;31m# max colonne par colonne\u001b[0m\u001b[1;33m\u001b[0m\u001b[0m\n\u001b[0;32m     21\u001b[0m         \u001b[0mres\u001b[0m\u001b[1;33m=\u001b[0m\u001b[0mnp\u001b[0m\u001b[1;33m.\u001b[0m\u001b[0mwhere\u001b[0m\u001b[1;33m(\u001b[0m\u001b[0mpred\u001b[0m\u001b[1;33m[\u001b[0m\u001b[0mit\u001b[0m\u001b[1;33m]\u001b[0m \u001b[1;33m!=\u001b[0m \u001b[0mYnum\u001b[0m\u001b[1;33m[\u001b[0m\u001b[0mit\u001b[0m\u001b[1;33m]\u001b[0m\u001b[1;33m,\u001b[0m \u001b[1;36m0.\u001b[0m\u001b[1;33m,\u001b[0m\u001b[1;36m1.\u001b[0m\u001b[1;33m)\u001b[0m\u001b[1;33m.\u001b[0m\u001b[0mmean\u001b[0m\u001b[1;33m(\u001b[0m\u001b[1;33m)\u001b[0m\u001b[1;33m\u001b[0m\u001b[0m\n",
      "\u001b[1;32m<ipython-input-443-30ab1096d827>\u001b[0m in \u001b[0;36m<listcomp>\u001b[1;34m(.0)\u001b[0m\n\u001b[0;32m     17\u001b[0m         \u001b[1;32mfor\u001b[0m \u001b[0mcl\u001b[0m \u001b[1;32min\u001b[0m \u001b[0mrange\u001b[0m\u001b[1;33m(\u001b[0m\u001b[0mlen\u001b[0m\u001b[1;33m(\u001b[0m\u001b[0mnp\u001b[0m\u001b[1;33m.\u001b[0m\u001b[0munique\u001b[0m\u001b[1;33m(\u001b[0m\u001b[0mY\u001b[0m\u001b[1;33m)\u001b[0m\u001b[1;33m)\u001b[0m\u001b[1;33m)\u001b[0m\u001b[1;33m:\u001b[0m \u001b[1;31m# parcours de toutes les classes et optimisation des modèles\u001b[0m\u001b[1;33m\u001b[0m\u001b[0m\n\u001b[0;32m     18\u001b[0m             \u001b[0mmodels\u001b[0m\u001b[1;33m.\u001b[0m\u001b[0mappend\u001b[0m\u001b[1;33m(\u001b[0m\u001b[1;33m(\u001b[0m\u001b[0mPi\u001b[0m\u001b[1;33m[\u001b[0m\u001b[0mcl\u001b[0m\u001b[1;33m]\u001b[0m\u001b[1;33m,\u001b[0m \u001b[0mA\u001b[0m\u001b[1;33m[\u001b[0m\u001b[0mcl\u001b[0m\u001b[1;33m]\u001b[0m\u001b[1;33m,\u001b[0m \u001b[0mB\u001b[0m\u001b[1;33m[\u001b[0m\u001b[0mcl\u001b[0m\u001b[1;33m]\u001b[0m\u001b[1;33m)\u001b[0m\u001b[1;33m)\u001b[0m\u001b[1;33m\u001b[0m\u001b[0m\n\u001b[1;32m---> 19\u001b[1;33m         \u001b[0mproba\u001b[0m \u001b[1;33m=\u001b[0m \u001b[0mnp\u001b[0m\u001b[1;33m.\u001b[0m\u001b[0marray\u001b[0m\u001b[1;33m(\u001b[0m\u001b[1;33m[\u001b[0m\u001b[1;33m[\u001b[0m\u001b[0mviterbi\u001b[0m\u001b[1;33m(\u001b[0m\u001b[0mXd\u001b[0m\u001b[1;33m[\u001b[0m\u001b[0mi\u001b[0m\u001b[1;33m]\u001b[0m\u001b[1;33m,\u001b[0m \u001b[0mPi\u001b[0m\u001b[1;33m[\u001b[0m\u001b[0mcl\u001b[0m\u001b[1;33m]\u001b[0m\u001b[1;33m,\u001b[0m \u001b[0mA\u001b[0m\u001b[1;33m[\u001b[0m\u001b[0mcl\u001b[0m\u001b[1;33m]\u001b[0m\u001b[1;33m,\u001b[0m \u001b[0mB\u001b[0m\u001b[1;33m[\u001b[0m\u001b[0mcl\u001b[0m\u001b[1;33m]\u001b[0m\u001b[1;33m)\u001b[0m\u001b[1;33m[\u001b[0m\u001b[1;36m1\u001b[0m\u001b[1;33m]\u001b[0m \u001b[1;32mfor\u001b[0m \u001b[0mi\u001b[0m \u001b[1;32min\u001b[0m \u001b[0mrange\u001b[0m\u001b[1;33m(\u001b[0m\u001b[0mlen\u001b[0m\u001b[1;33m(\u001b[0m\u001b[0mXd\u001b[0m\u001b[1;33m)\u001b[0m\u001b[1;33m)\u001b[0m\u001b[1;33m]\u001b[0m\u001b[1;32mfor\u001b[0m \u001b[0mcl\u001b[0m \u001b[1;32min\u001b[0m \u001b[0mrange\u001b[0m\u001b[1;33m(\u001b[0m\u001b[1;36m26\u001b[0m\u001b[1;33m)\u001b[0m\u001b[1;33m]\u001b[0m\u001b[1;33m)\u001b[0m\u001b[1;33m\u001b[0m\u001b[0m\n\u001b[0m\u001b[0;32m     20\u001b[0m         \u001b[0mpred\u001b[0m \u001b[1;33m=\u001b[0m \u001b[0mproba\u001b[0m\u001b[1;33m.\u001b[0m\u001b[0margmax\u001b[0m\u001b[1;33m(\u001b[0m\u001b[1;36m0\u001b[0m\u001b[1;33m)\u001b[0m \u001b[1;31m# max colonne par colonne\u001b[0m\u001b[1;33m\u001b[0m\u001b[0m\n\u001b[0;32m     21\u001b[0m         \u001b[0mres\u001b[0m\u001b[1;33m=\u001b[0m\u001b[0mnp\u001b[0m\u001b[1;33m.\u001b[0m\u001b[0mwhere\u001b[0m\u001b[1;33m(\u001b[0m\u001b[0mpred\u001b[0m\u001b[1;33m[\u001b[0m\u001b[0mit\u001b[0m\u001b[1;33m]\u001b[0m \u001b[1;33m!=\u001b[0m \u001b[0mYnum\u001b[0m\u001b[1;33m[\u001b[0m\u001b[0mit\u001b[0m\u001b[1;33m]\u001b[0m\u001b[1;33m,\u001b[0m \u001b[1;36m0.\u001b[0m\u001b[1;33m,\u001b[0m\u001b[1;36m1.\u001b[0m\u001b[1;33m)\u001b[0m\u001b[1;33m.\u001b[0m\u001b[0mmean\u001b[0m\u001b[1;33m(\u001b[0m\u001b[1;33m)\u001b[0m\u001b[1;33m\u001b[0m\u001b[0m\n",
      "\u001b[1;32m<ipython-input-443-30ab1096d827>\u001b[0m in \u001b[0;36m<listcomp>\u001b[1;34m(.0)\u001b[0m\n\u001b[0;32m     17\u001b[0m         \u001b[1;32mfor\u001b[0m \u001b[0mcl\u001b[0m \u001b[1;32min\u001b[0m \u001b[0mrange\u001b[0m\u001b[1;33m(\u001b[0m\u001b[0mlen\u001b[0m\u001b[1;33m(\u001b[0m\u001b[0mnp\u001b[0m\u001b[1;33m.\u001b[0m\u001b[0munique\u001b[0m\u001b[1;33m(\u001b[0m\u001b[0mY\u001b[0m\u001b[1;33m)\u001b[0m\u001b[1;33m)\u001b[0m\u001b[1;33m)\u001b[0m\u001b[1;33m:\u001b[0m \u001b[1;31m# parcours de toutes les classes et optimisation des modèles\u001b[0m\u001b[1;33m\u001b[0m\u001b[0m\n\u001b[0;32m     18\u001b[0m             \u001b[0mmodels\u001b[0m\u001b[1;33m.\u001b[0m\u001b[0mappend\u001b[0m\u001b[1;33m(\u001b[0m\u001b[1;33m(\u001b[0m\u001b[0mPi\u001b[0m\u001b[1;33m[\u001b[0m\u001b[0mcl\u001b[0m\u001b[1;33m]\u001b[0m\u001b[1;33m,\u001b[0m \u001b[0mA\u001b[0m\u001b[1;33m[\u001b[0m\u001b[0mcl\u001b[0m\u001b[1;33m]\u001b[0m\u001b[1;33m,\u001b[0m \u001b[0mB\u001b[0m\u001b[1;33m[\u001b[0m\u001b[0mcl\u001b[0m\u001b[1;33m]\u001b[0m\u001b[1;33m)\u001b[0m\u001b[1;33m)\u001b[0m\u001b[1;33m\u001b[0m\u001b[0m\n\u001b[1;32m---> 19\u001b[1;33m         \u001b[0mproba\u001b[0m \u001b[1;33m=\u001b[0m \u001b[0mnp\u001b[0m\u001b[1;33m.\u001b[0m\u001b[0marray\u001b[0m\u001b[1;33m(\u001b[0m\u001b[1;33m[\u001b[0m\u001b[1;33m[\u001b[0m\u001b[0mviterbi\u001b[0m\u001b[1;33m(\u001b[0m\u001b[0mXd\u001b[0m\u001b[1;33m[\u001b[0m\u001b[0mi\u001b[0m\u001b[1;33m]\u001b[0m\u001b[1;33m,\u001b[0m \u001b[0mPi\u001b[0m\u001b[1;33m[\u001b[0m\u001b[0mcl\u001b[0m\u001b[1;33m]\u001b[0m\u001b[1;33m,\u001b[0m \u001b[0mA\u001b[0m\u001b[1;33m[\u001b[0m\u001b[0mcl\u001b[0m\u001b[1;33m]\u001b[0m\u001b[1;33m,\u001b[0m \u001b[0mB\u001b[0m\u001b[1;33m[\u001b[0m\u001b[0mcl\u001b[0m\u001b[1;33m]\u001b[0m\u001b[1;33m)\u001b[0m\u001b[1;33m[\u001b[0m\u001b[1;36m1\u001b[0m\u001b[1;33m]\u001b[0m \u001b[1;32mfor\u001b[0m \u001b[0mi\u001b[0m \u001b[1;32min\u001b[0m \u001b[0mrange\u001b[0m\u001b[1;33m(\u001b[0m\u001b[0mlen\u001b[0m\u001b[1;33m(\u001b[0m\u001b[0mXd\u001b[0m\u001b[1;33m)\u001b[0m\u001b[1;33m)\u001b[0m\u001b[1;33m]\u001b[0m\u001b[1;32mfor\u001b[0m \u001b[0mcl\u001b[0m \u001b[1;32min\u001b[0m \u001b[0mrange\u001b[0m\u001b[1;33m(\u001b[0m\u001b[1;36m26\u001b[0m\u001b[1;33m)\u001b[0m\u001b[1;33m]\u001b[0m\u001b[1;33m)\u001b[0m\u001b[1;33m\u001b[0m\u001b[0m\n\u001b[0m\u001b[0;32m     20\u001b[0m         \u001b[0mpred\u001b[0m \u001b[1;33m=\u001b[0m \u001b[0mproba\u001b[0m\u001b[1;33m.\u001b[0m\u001b[0margmax\u001b[0m\u001b[1;33m(\u001b[0m\u001b[1;36m0\u001b[0m\u001b[1;33m)\u001b[0m \u001b[1;31m# max colonne par colonne\u001b[0m\u001b[1;33m\u001b[0m\u001b[0m\n\u001b[0;32m     21\u001b[0m         \u001b[0mres\u001b[0m\u001b[1;33m=\u001b[0m\u001b[0mnp\u001b[0m\u001b[1;33m.\u001b[0m\u001b[0mwhere\u001b[0m\u001b[1;33m(\u001b[0m\u001b[0mpred\u001b[0m\u001b[1;33m[\u001b[0m\u001b[0mit\u001b[0m\u001b[1;33m]\u001b[0m \u001b[1;33m!=\u001b[0m \u001b[0mYnum\u001b[0m\u001b[1;33m[\u001b[0m\u001b[0mit\u001b[0m\u001b[1;33m]\u001b[0m\u001b[1;33m,\u001b[0m \u001b[1;36m0.\u001b[0m\u001b[1;33m,\u001b[0m\u001b[1;36m1.\u001b[0m\u001b[1;33m)\u001b[0m\u001b[1;33m.\u001b[0m\u001b[0mmean\u001b[0m\u001b[1;33m(\u001b[0m\u001b[1;33m)\u001b[0m\u001b[1;33m\u001b[0m\u001b[0m\n",
      "\u001b[1;32m<ipython-input-440-c7e8b1c3dd83>\u001b[0m in \u001b[0;36mviterbi\u001b[1;34m(x, Pi, A, B)\u001b[0m\n\u001b[0;32m     11\u001b[0m         \u001b[1;32mfor\u001b[0m \u001b[0mj\u001b[0m \u001b[1;32min\u001b[0m \u001b[0mrange\u001b[0m\u001b[1;33m(\u001b[0m\u001b[0mB\u001b[0m\u001b[1;33m.\u001b[0m\u001b[0mshape\u001b[0m\u001b[1;33m[\u001b[0m\u001b[1;36m0\u001b[0m\u001b[1;33m]\u001b[0m\u001b[1;33m)\u001b[0m\u001b[1;33m:\u001b[0m\u001b[1;33m\u001b[0m\u001b[0m\n\u001b[0;32m     12\u001b[0m             \u001b[0mdelta\u001b[0m\u001b[1;33m[\u001b[0m\u001b[0mj\u001b[0m\u001b[1;33m,\u001b[0m\u001b[0mt\u001b[0m\u001b[1;33m]\u001b[0m \u001b[1;33m=\u001b[0m \u001b[0mnp\u001b[0m\u001b[1;33m.\u001b[0m\u001b[0mmax\u001b[0m\u001b[1;33m(\u001b[0m\u001b[0mdelta\u001b[0m\u001b[1;33m[\u001b[0m\u001b[1;33m:\u001b[0m\u001b[1;33m,\u001b[0m\u001b[0mt\u001b[0m\u001b[1;33m-\u001b[0m\u001b[1;36m1\u001b[0m\u001b[1;33m]\u001b[0m \u001b[1;33m+\u001b[0m \u001b[0mnp\u001b[0m\u001b[1;33m.\u001b[0m\u001b[0mlog\u001b[0m\u001b[1;33m(\u001b[0m\u001b[0mA\u001b[0m\u001b[1;33m[\u001b[0m\u001b[1;33m:\u001b[0m\u001b[1;33m,\u001b[0m\u001b[0mj\u001b[0m\u001b[1;33m]\u001b[0m\u001b[1;33m)\u001b[0m\u001b[1;33m)\u001b[0m \u001b[1;33m+\u001b[0m \u001b[0mnp\u001b[0m\u001b[1;33m.\u001b[0m\u001b[0mlog\u001b[0m\u001b[1;33m(\u001b[0m\u001b[0mB\u001b[0m\u001b[1;33m[\u001b[0m\u001b[0mj\u001b[0m\u001b[1;33m,\u001b[0m\u001b[0mint\u001b[0m\u001b[1;33m(\u001b[0m\u001b[0mx\u001b[0m\u001b[1;33m[\u001b[0m\u001b[0mt\u001b[0m\u001b[1;33m]\u001b[0m\u001b[1;33m)\u001b[0m\u001b[1;33m]\u001b[0m\u001b[1;33m)\u001b[0m\u001b[1;33m\u001b[0m\u001b[0m\n\u001b[1;32m---> 13\u001b[1;33m             \u001b[0mpsy\u001b[0m\u001b[1;33m[\u001b[0m\u001b[0mj\u001b[0m\u001b[1;33m,\u001b[0m\u001b[0mt\u001b[0m\u001b[1;33m]\u001b[0m \u001b[1;33m=\u001b[0m \u001b[0mnp\u001b[0m\u001b[1;33m.\u001b[0m\u001b[0margmax\u001b[0m\u001b[1;33m(\u001b[0m\u001b[0mdelta\u001b[0m\u001b[1;33m[\u001b[0m\u001b[1;33m:\u001b[0m\u001b[1;33m,\u001b[0m\u001b[0mt\u001b[0m\u001b[1;33m-\u001b[0m\u001b[1;36m1\u001b[0m\u001b[1;33m]\u001b[0m \u001b[1;33m+\u001b[0m \u001b[0mnp\u001b[0m\u001b[1;33m.\u001b[0m\u001b[0mlog\u001b[0m\u001b[1;33m(\u001b[0m\u001b[0mA\u001b[0m\u001b[1;33m[\u001b[0m\u001b[1;33m:\u001b[0m\u001b[1;33m,\u001b[0m\u001b[0mj\u001b[0m\u001b[1;33m]\u001b[0m\u001b[1;33m)\u001b[0m\u001b[1;33m)\u001b[0m\u001b[1;33m\u001b[0m\u001b[0m\n\u001b[0m\u001b[0;32m     14\u001b[0m \u001b[1;33m\u001b[0m\u001b[0m\n\u001b[0;32m     15\u001b[0m     \u001b[1;31m# Terminaison\u001b[0m\u001b[1;33m\u001b[0m\u001b[1;33m\u001b[0m\u001b[0m\n",
      "\u001b[1;32m~\\Anaconda3\\lib\\site-packages\\numpy\\core\\fromnumeric.py\u001b[0m in \u001b[0;36margmax\u001b[1;34m(a, axis, out)\u001b[0m\n\u001b[0;32m   1101\u001b[0m \u001b[1;33m\u001b[0m\u001b[0m\n\u001b[0;32m   1102\u001b[0m     \"\"\"\n\u001b[1;32m-> 1103\u001b[1;33m     \u001b[1;32mreturn\u001b[0m \u001b[0m_wrapfunc\u001b[0m\u001b[1;33m(\u001b[0m\u001b[0ma\u001b[0m\u001b[1;33m,\u001b[0m \u001b[1;34m'argmax'\u001b[0m\u001b[1;33m,\u001b[0m \u001b[0maxis\u001b[0m\u001b[1;33m=\u001b[0m\u001b[0maxis\u001b[0m\u001b[1;33m,\u001b[0m \u001b[0mout\u001b[0m\u001b[1;33m=\u001b[0m\u001b[0mout\u001b[0m\u001b[1;33m)\u001b[0m\u001b[1;33m\u001b[0m\u001b[0m\n\u001b[0m\u001b[0;32m   1104\u001b[0m \u001b[1;33m\u001b[0m\u001b[0m\n\u001b[0;32m   1105\u001b[0m \u001b[1;33m\u001b[0m\u001b[0m\n",
      "\u001b[1;32m~\\Anaconda3\\lib\\site-packages\\numpy\\core\\fromnumeric.py\u001b[0m in \u001b[0;36m_wrapfunc\u001b[1;34m(obj, method, *args, **kwds)\u001b[0m\n\u001b[0;32m     54\u001b[0m \u001b[1;32mdef\u001b[0m \u001b[0m_wrapfunc\u001b[0m\u001b[1;33m(\u001b[0m\u001b[0mobj\u001b[0m\u001b[1;33m,\u001b[0m \u001b[0mmethod\u001b[0m\u001b[1;33m,\u001b[0m \u001b[1;33m*\u001b[0m\u001b[0margs\u001b[0m\u001b[1;33m,\u001b[0m \u001b[1;33m**\u001b[0m\u001b[0mkwds\u001b[0m\u001b[1;33m)\u001b[0m\u001b[1;33m:\u001b[0m\u001b[1;33m\u001b[0m\u001b[0m\n\u001b[0;32m     55\u001b[0m     \u001b[1;32mtry\u001b[0m\u001b[1;33m:\u001b[0m\u001b[1;33m\u001b[0m\u001b[0m\n\u001b[1;32m---> 56\u001b[1;33m         \u001b[1;32mreturn\u001b[0m \u001b[0mgetattr\u001b[0m\u001b[1;33m(\u001b[0m\u001b[0mobj\u001b[0m\u001b[1;33m,\u001b[0m \u001b[0mmethod\u001b[0m\u001b[1;33m)\u001b[0m\u001b[1;33m(\u001b[0m\u001b[1;33m*\u001b[0m\u001b[0margs\u001b[0m\u001b[1;33m,\u001b[0m \u001b[1;33m**\u001b[0m\u001b[0mkwds\u001b[0m\u001b[1;33m)\u001b[0m\u001b[1;33m\u001b[0m\u001b[0m\n\u001b[0m\u001b[0;32m     57\u001b[0m \u001b[1;33m\u001b[0m\u001b[0m\n\u001b[0;32m     58\u001b[0m     \u001b[1;31m# An AttributeError occurs if the object does not have\u001b[0m\u001b[1;33m\u001b[0m\u001b[1;33m\u001b[0m\u001b[0m\n",
      "\u001b[1;31mKeyboardInterrupt\u001b[0m: "
     ]
    },
    {
     "data": {
      "image/png": "[encoded data removed]",
      "text/plain": [
       "<Figure size 432x288 with 1 Axes>"
      ]
     },
     "metadata": {},
     "output_type": "display_data"
    }
   ],
   "source": [
    "Ynum = np.zeros(Y.shape)\n",
    "for num,char in enumerate(np.unique(Y)):\n",
    "    Ynum[Y==char] = num\n",
    "\n",
    "probas=[]\n",
    "probasT=[]\n",
    "Nmax=10\n",
    "Kmax=20\n",
    "\n",
    "# En test et apprentissage\n",
    "for t in range(5,Nmax):\n",
    "    for j in range(10,Kmax+1):\n",
    "        Xd=discretise(X,j)\n",
    "        q=initGD(Xd,t)\n",
    "        Pi,A,B = baumwelch(Xd, itrain,itrain, t, j)  \n",
    "        models = [] \n",
    "        for cl in range(len(np.unique(Y))): # parcours de toutes les classes et optimisation des modèles\n",
    "            models.append((Pi[cl], A[cl], B[cl]))\n",
    "        proba = np.array([[viterbi(Xd[i], Pi[cl], A[cl], B[cl])[1] for i in range(len(Xd))]for cl in range(26)])\n",
    "        pred = proba.argmax(0) # max colonne par colonne\n",
    "        res=np.where(pred[it] != Ynum[it], 0.,1.).mean()\n",
    "        res2=np.where(pred[ia] != Ynum[ia], 0.,1.).mean()\n",
    "        print(\"Pour \"+str(t)+\" états et \"+str(j)+\" obervations en test : \",res)\n",
    "        print(\"Pour \"+str(t)+\" états et \"+str(j)+\" obervations en apprentissage : \",res2)\n",
    "        probasT.append(res)\n",
    "        probas.append(res2)\n",
    "        \n",
    "       \n",
    "probas = np.array(probas)\n",
    "moy=probas.mean()\n",
    "var=probas.std()\n",
    "print(\"En apprentissage :\\n moyenne : \"+str(moy)+\", variance : \"+str(var))\n",
    "\n",
    "probasT=np.array(probasT)\n",
    "moyT=probasT.mean()\n",
    "varT=probasT.std()\n",
    "print(\"En test :\\n moyenne : \"+str(moyT)+\", variance : \"+str(varT))"
   ]
  },
  {
   "cell_type": "code",
   "execution_count": 444,
   "metadata": {},
   "outputs": [],
   "source": [
    "def generateHMM(Pic, Ac, Bc, long):\n",
    "    s = []\n",
    "    x = []\n",
    "    AorB = False # T = A | F = B\n",
    "    \n",
    "    nb_rand = np.random.rand()\n",
    "    s.append(np.where(Pic >= nb_rand)[0][0])\n",
    "    \n",
    "    for i in range(1, long):\n",
    "        nb_rand = np.random.rand()\n",
    "        if AorB == False:\n",
    "            x.append(np.where(Bc[int(s[len(s)-1]),:] >= nb_rand )[0][0])\n",
    "            AorB = True\n",
    "        else:\n",
    "            s.append(np.where(Ac[int(s[len(s)-1]),:] >= nb_rand )[0][0])\n",
    "            AorB = False\n",
    "    \n",
    "    return np.array(s), np.array(x)\n",
    "        "
   ]
  },
  {
   "cell_type": "code",
   "execution_count": 445,
   "metadata": {},
   "outputs": [
    {
     "data": {
      "image/png": "[encoded data removed]",
      "text/plain": [
       "<Figure size 432x288 with 15 Axes>"
      ]
     },
     "metadata": {},
     "output_type": "display_data"
    }
   ],
   "source": [
    "\n",
    "#Trois lettres générées pour 5 classes (A -> E)\n",
    "n = 3          # nb d'échantillon par classe\n",
    "nClred = 5   # nb de classes à considérer\n",
    "fig = plt.figure()\n",
    "for cl in range(nClred):\n",
    "    Pic = models[cl][0].cumsum() # calcul des sommes cumulées pour gagner du temps\n",
    "    Ac = models[cl][1].cumsum(1)\n",
    "    Bc = models[cl][2].cumsum(1)\n",
    "    long = np.floor(np.array([len(x) for x in Xd[itrain[cl]]]).mean()) # longueur de seq. à générer = moyenne des observations\n",
    "    for im in range(n):\n",
    "        s,x = generateHMM(Pic, Ac, Bc, int(long))\n",
    "        intervalle = 360./10  # pour passer des états => angles\n",
    "        newa_continu = np.array([i*intervalle for i in x]) # conv int => double\n",
    "        sfig = plt.subplot(nClred,n,im+n*cl+1)\n",
    "        sfig.axes.get_xaxis().set_visible(False)\n",
    "        sfig.axes.get_yaxis().set_visible(False)\n",
    "        tracerLettre(newa_continu)\n",
    "plt.savefig(\"lettres_hmm.png\")"
   ]
  },
  {
   "cell_type": "code",
   "execution_count": null,
   "metadata": {},
   "outputs": [],
   "source": []
  }
 ],
 "metadata": {
  "kernelspec": {
   "display_name": "Python 3",
   "language": "python",
   "name": "python3"
  },
  "language_info": {
   "codemirror_mode": {
    "name": "ipython",
    "version": 3
   },
   "file_extension": ".py",
   "mimetype": "text/x-python",
   "name": "python",
   "nbconvert_exporter": "python",
   "pygments_lexer": "ipython3",
   "version": "3.6.5"
  }
 },
 "nbformat": 4,
 "nbformat_minor": 2
}
